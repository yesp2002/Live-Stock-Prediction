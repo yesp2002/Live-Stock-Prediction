{
  "cells": [
    {
      "cell_type": "markdown",
      "metadata": {
        "id": "view-in-github",
        "colab_type": "text"
      },
      "source": [
        "<a href=\"https://colab.research.google.com/github/yesp2002/Live-Stock-Prediction/blob/main/Live_Stock_Prediction.ipynb\" target=\"_parent\"><img src=\"https://colab.research.google.com/assets/colab-badge.svg\" alt=\"Open In Colab\"/></a>"
      ]
    },
    {
      "cell_type": "code",
      "execution_count": 2,
      "id": "f91eb4e9",
      "metadata": {
        "id": "f91eb4e9",
        "outputId": "271f651a-98f7-4043-8a17-757a0baddadb",
        "colab": {
          "base_uri": "https://localhost:8080/"
        }
      },
      "outputs": [
        {
          "output_type": "stream",
          "name": "stdout",
          "text": [
            "Collecting yfinance\n",
            "  Downloading yfinance-0.1.70-py2.py3-none-any.whl (26 kB)\n",
            "Requirement already satisfied: multitasking>=0.0.7 in /usr/local/lib/python3.7/dist-packages (from yfinance) (0.0.10)\n",
            "Requirement already satisfied: pandas>=0.24.0 in /usr/local/lib/python3.7/dist-packages (from yfinance) (1.3.5)\n",
            "Collecting requests>=2.26\n",
            "  Downloading requests-2.27.1-py2.py3-none-any.whl (63 kB)\n",
            "\u001b[K     |████████████████████████████████| 63 kB 1.2 MB/s \n",
            "\u001b[?25hRequirement already satisfied: numpy>=1.15 in /usr/local/lib/python3.7/dist-packages (from yfinance) (1.19.5)\n",
            "Collecting lxml>=4.5.1\n",
            "  Downloading lxml-4.7.1-cp37-cp37m-manylinux_2_17_x86_64.manylinux2014_x86_64.manylinux_2_24_x86_64.whl (6.4 MB)\n",
            "\u001b[K     |████████████████████████████████| 6.4 MB 31.2 MB/s \n",
            "\u001b[?25hRequirement already satisfied: python-dateutil>=2.7.3 in /usr/local/lib/python3.7/dist-packages (from pandas>=0.24.0->yfinance) (2.8.2)\n",
            "Requirement already satisfied: pytz>=2017.3 in /usr/local/lib/python3.7/dist-packages (from pandas>=0.24.0->yfinance) (2018.9)\n",
            "Requirement already satisfied: six>=1.5 in /usr/local/lib/python3.7/dist-packages (from python-dateutil>=2.7.3->pandas>=0.24.0->yfinance) (1.15.0)\n",
            "Requirement already satisfied: urllib3<1.27,>=1.21.1 in /usr/local/lib/python3.7/dist-packages (from requests>=2.26->yfinance) (1.24.3)\n",
            "Requirement already satisfied: idna<4,>=2.5 in /usr/local/lib/python3.7/dist-packages (from requests>=2.26->yfinance) (2.10)\n",
            "Requirement already satisfied: certifi>=2017.4.17 in /usr/local/lib/python3.7/dist-packages (from requests>=2.26->yfinance) (2021.10.8)\n",
            "Requirement already satisfied: charset-normalizer~=2.0.0 in /usr/local/lib/python3.7/dist-packages (from requests>=2.26->yfinance) (2.0.11)\n",
            "Installing collected packages: requests, lxml, yfinance\n",
            "  Attempting uninstall: requests\n",
            "    Found existing installation: requests 2.23.0\n",
            "    Uninstalling requests-2.23.0:\n",
            "      Successfully uninstalled requests-2.23.0\n",
            "  Attempting uninstall: lxml\n",
            "    Found existing installation: lxml 4.2.6\n",
            "    Uninstalling lxml-4.2.6:\n",
            "      Successfully uninstalled lxml-4.2.6\n",
            "\u001b[31mERROR: pip's dependency resolver does not currently take into account all the packages that are installed. This behaviour is the source of the following dependency conflicts.\n",
            "google-colab 1.0.0 requires requests~=2.23.0, but you have requests 2.27.1 which is incompatible.\n",
            "datascience 0.10.6 requires folium==0.2.1, but you have folium 0.8.3 which is incompatible.\u001b[0m\n",
            "Successfully installed lxml-4.7.1 requests-2.27.1 yfinance-0.1.70\n"
          ]
        }
      ],
      "source": [
        "#yahoo finance as data source\n",
        "!pip install yfinance\n",
        "import yfinance as yf"
      ]
    },
    {
      "cell_type": "code",
      "execution_count": 3,
      "id": "ee00f18c",
      "metadata": {
        "id": "ee00f18c"
      },
      "outputs": [],
      "source": [
        "#See the yahoo finance ticker for your stock symbol\n",
        "stock_symbol = 'GAIL.NS'"
      ]
    },
    {
      "cell_type": "code",
      "execution_count": 4,
      "id": "d365868a",
      "metadata": {
        "id": "d365868a",
        "outputId": "2d4713a5-41f3-4bc7-8a43-f84a0db2a40b",
        "colab": {
          "base_uri": "https://localhost:8080/"
        }
      },
      "outputs": [
        {
          "output_type": "stream",
          "name": "stdout",
          "text": [
            "\r[*********************100%***********************]  1 of 1 completed\n"
          ]
        }
      ],
      "source": [
        "#last 5 years data with interval of 1 day\n",
        "data = yf.download(tickers=stock_symbol,period='5y',interval='1d')"
      ]
    },
    {
      "cell_type": "code",
      "execution_count": 5,
      "id": "9f82e205",
      "metadata": {
        "id": "9f82e205",
        "outputId": "2934aa24-36cc-4e98-b8fe-c10e96a26875",
        "colab": {
          "base_uri": "https://localhost:8080/"
        }
      },
      "outputs": [
        {
          "output_type": "execute_result",
          "data": {
            "text/plain": [
              "pandas.core.frame.DataFrame"
            ]
          },
          "metadata": {},
          "execution_count": 5
        }
      ],
      "source": [
        "type(data)"
      ]
    },
    {
      "cell_type": "code",
      "execution_count": 6,
      "id": "dbbe3e6b",
      "metadata": {
        "id": "dbbe3e6b",
        "outputId": "40aba838-13e5-4106-8460-7b3c4409b2d9",
        "colab": {
          "base_uri": "https://localhost:8080/",
          "height": 237
        }
      },
      "outputs": [
        {
          "output_type": "execute_result",
          "data": {
            "text/html": [
              "\n",
              "  <div id=\"df-cf6184f9-59b0-4d11-942c-f46f70b4365c\">\n",
              "    <div class=\"colab-df-container\">\n",
              "      <div>\n",
              "<style scoped>\n",
              "    .dataframe tbody tr th:only-of-type {\n",
              "        vertical-align: middle;\n",
              "    }\n",
              "\n",
              "    .dataframe tbody tr th {\n",
              "        vertical-align: top;\n",
              "    }\n",
              "\n",
              "    .dataframe thead th {\n",
              "        text-align: right;\n",
              "    }\n",
              "</style>\n",
              "<table border=\"1\" class=\"dataframe\">\n",
              "  <thead>\n",
              "    <tr style=\"text-align: right;\">\n",
              "      <th></th>\n",
              "      <th>Open</th>\n",
              "      <th>High</th>\n",
              "      <th>Low</th>\n",
              "      <th>Close</th>\n",
              "      <th>Adj Close</th>\n",
              "      <th>Volume</th>\n",
              "    </tr>\n",
              "    <tr>\n",
              "      <th>Date</th>\n",
              "      <th></th>\n",
              "      <th></th>\n",
              "      <th></th>\n",
              "      <th></th>\n",
              "      <th></th>\n",
              "      <th></th>\n",
              "    </tr>\n",
              "  </thead>\n",
              "  <tbody>\n",
              "    <tr>\n",
              "      <th>2017-02-02</th>\n",
              "      <td>135.365692</td>\n",
              "      <td>136.054749</td>\n",
              "      <td>133.734436</td>\n",
              "      <td>134.001633</td>\n",
              "      <td>112.472038</td>\n",
              "      <td>10743390</td>\n",
              "    </tr>\n",
              "    <tr>\n",
              "      <th>2017-02-03</th>\n",
              "      <td>134.156311</td>\n",
              "      <td>135.421936</td>\n",
              "      <td>132.257874</td>\n",
              "      <td>134.634445</td>\n",
              "      <td>113.003204</td>\n",
              "      <td>7316433</td>\n",
              "    </tr>\n",
              "    <tr>\n",
              "      <th>2017-02-06</th>\n",
              "      <td>134.915695</td>\n",
              "      <td>136.265686</td>\n",
              "      <td>134.296936</td>\n",
              "      <td>135.689133</td>\n",
              "      <td>113.888428</td>\n",
              "      <td>6681287</td>\n",
              "    </tr>\n",
              "    <tr>\n",
              "      <th>2017-02-07</th>\n",
              "      <td>136.406311</td>\n",
              "      <td>137.995377</td>\n",
              "      <td>132.904755</td>\n",
              "      <td>133.931320</td>\n",
              "      <td>112.413033</td>\n",
              "      <td>8439722</td>\n",
              "    </tr>\n",
              "    <tr>\n",
              "      <th>2017-02-08</th>\n",
              "      <td>134.184448</td>\n",
              "      <td>137.109436</td>\n",
              "      <td>133.593811</td>\n",
              "      <td>136.504761</td>\n",
              "      <td>114.573006</td>\n",
              "      <td>3663756</td>\n",
              "    </tr>\n",
              "  </tbody>\n",
              "</table>\n",
              "</div>\n",
              "      <button class=\"colab-df-convert\" onclick=\"convertToInteractive('df-cf6184f9-59b0-4d11-942c-f46f70b4365c')\"\n",
              "              title=\"Convert this dataframe to an interactive table.\"\n",
              "              style=\"display:none;\">\n",
              "        \n",
              "  <svg xmlns=\"http://www.w3.org/2000/svg\" height=\"24px\"viewBox=\"0 0 24 24\"\n",
              "       width=\"24px\">\n",
              "    <path d=\"M0 0h24v24H0V0z\" fill=\"none\"/>\n",
              "    <path d=\"M18.56 5.44l.94 2.06.94-2.06 2.06-.94-2.06-.94-.94-2.06-.94 2.06-2.06.94zm-11 1L8.5 8.5l.94-2.06 2.06-.94-2.06-.94L8.5 2.5l-.94 2.06-2.06.94zm10 10l.94 2.06.94-2.06 2.06-.94-2.06-.94-.94-2.06-.94 2.06-2.06.94z\"/><path d=\"M17.41 7.96l-1.37-1.37c-.4-.4-.92-.59-1.43-.59-.52 0-1.04.2-1.43.59L10.3 9.45l-7.72 7.72c-.78.78-.78 2.05 0 2.83L4 21.41c.39.39.9.59 1.41.59.51 0 1.02-.2 1.41-.59l7.78-7.78 2.81-2.81c.8-.78.8-2.07 0-2.86zM5.41 20L4 18.59l7.72-7.72 1.47 1.35L5.41 20z\"/>\n",
              "  </svg>\n",
              "      </button>\n",
              "      \n",
              "  <style>\n",
              "    .colab-df-container {\n",
              "      display:flex;\n",
              "      flex-wrap:wrap;\n",
              "      gap: 12px;\n",
              "    }\n",
              "\n",
              "    .colab-df-convert {\n",
              "      background-color: #E8F0FE;\n",
              "      border: none;\n",
              "      border-radius: 50%;\n",
              "      cursor: pointer;\n",
              "      display: none;\n",
              "      fill: #1967D2;\n",
              "      height: 32px;\n",
              "      padding: 0 0 0 0;\n",
              "      width: 32px;\n",
              "    }\n",
              "\n",
              "    .colab-df-convert:hover {\n",
              "      background-color: #E2EBFA;\n",
              "      box-shadow: 0px 1px 2px rgba(60, 64, 67, 0.3), 0px 1px 3px 1px rgba(60, 64, 67, 0.15);\n",
              "      fill: #174EA6;\n",
              "    }\n",
              "\n",
              "    [theme=dark] .colab-df-convert {\n",
              "      background-color: #3B4455;\n",
              "      fill: #D2E3FC;\n",
              "    }\n",
              "\n",
              "    [theme=dark] .colab-df-convert:hover {\n",
              "      background-color: #434B5C;\n",
              "      box-shadow: 0px 1px 3px 1px rgba(0, 0, 0, 0.15);\n",
              "      filter: drop-shadow(0px 1px 2px rgba(0, 0, 0, 0.3));\n",
              "      fill: #FFFFFF;\n",
              "    }\n",
              "  </style>\n",
              "\n",
              "      <script>\n",
              "        const buttonEl =\n",
              "          document.querySelector('#df-cf6184f9-59b0-4d11-942c-f46f70b4365c button.colab-df-convert');\n",
              "        buttonEl.style.display =\n",
              "          google.colab.kernel.accessAllowed ? 'block' : 'none';\n",
              "\n",
              "        async function convertToInteractive(key) {\n",
              "          const element = document.querySelector('#df-cf6184f9-59b0-4d11-942c-f46f70b4365c');\n",
              "          const dataTable =\n",
              "            await google.colab.kernel.invokeFunction('convertToInteractive',\n",
              "                                                     [key], {});\n",
              "          if (!dataTable) return;\n",
              "\n",
              "          const docLinkHtml = 'Like what you see? Visit the ' +\n",
              "            '<a target=\"_blank\" href=https://colab.research.google.com/notebooks/data_table.ipynb>data table notebook</a>'\n",
              "            + ' to learn more about interactive tables.';\n",
              "          element.innerHTML = '';\n",
              "          dataTable['output_type'] = 'display_data';\n",
              "          await google.colab.output.renderOutput(dataTable, element);\n",
              "          const docLink = document.createElement('div');\n",
              "          docLink.innerHTML = docLinkHtml;\n",
              "          element.appendChild(docLink);\n",
              "        }\n",
              "      </script>\n",
              "    </div>\n",
              "  </div>\n",
              "  "
            ],
            "text/plain": [
              "                  Open        High  ...   Adj Close    Volume\n",
              "Date                                ...                      \n",
              "2017-02-02  135.365692  136.054749  ...  112.472038  10743390\n",
              "2017-02-03  134.156311  135.421936  ...  113.003204   7316433\n",
              "2017-02-06  134.915695  136.265686  ...  113.888428   6681287\n",
              "2017-02-07  136.406311  137.995377  ...  112.413033   8439722\n",
              "2017-02-08  134.184448  137.109436  ...  114.573006   3663756\n",
              "\n",
              "[5 rows x 6 columns]"
            ]
          },
          "metadata": {},
          "execution_count": 6
        }
      ],
      "source": [
        "data.head()"
      ]
    },
    {
      "cell_type": "code",
      "execution_count": 7,
      "id": "9d445949",
      "metadata": {
        "id": "9d445949",
        "outputId": "d7943eee-e8f1-48ad-b608-34c20c31afe9",
        "colab": {
          "base_uri": "https://localhost:8080/"
        }
      },
      "outputs": [
        {
          "output_type": "execute_result",
          "data": {
            "text/plain": [
              "1236"
            ]
          },
          "metadata": {},
          "execution_count": 7
        }
      ],
      "source": [
        "len(data)"
      ]
    },
    {
      "cell_type": "code",
      "execution_count": 8,
      "id": "bf283ad5",
      "metadata": {
        "id": "bf283ad5",
        "outputId": "dd982d93-38c0-4f0b-c9a9-0a125675b669",
        "colab": {
          "base_uri": "https://localhost:8080/",
          "height": 237
        }
      },
      "outputs": [
        {
          "output_type": "execute_result",
          "data": {
            "text/html": [
              "\n",
              "  <div id=\"df-51229ce0-d33e-40b9-a236-72e3c210d058\">\n",
              "    <div class=\"colab-df-container\">\n",
              "      <div>\n",
              "<style scoped>\n",
              "    .dataframe tbody tr th:only-of-type {\n",
              "        vertical-align: middle;\n",
              "    }\n",
              "\n",
              "    .dataframe tbody tr th {\n",
              "        vertical-align: top;\n",
              "    }\n",
              "\n",
              "    .dataframe thead th {\n",
              "        text-align: right;\n",
              "    }\n",
              "</style>\n",
              "<table border=\"1\" class=\"dataframe\">\n",
              "  <thead>\n",
              "    <tr style=\"text-align: right;\">\n",
              "      <th></th>\n",
              "      <th>Open</th>\n",
              "      <th>High</th>\n",
              "      <th>Low</th>\n",
              "      <th>Close</th>\n",
              "      <th>Adj Close</th>\n",
              "      <th>Volume</th>\n",
              "    </tr>\n",
              "    <tr>\n",
              "      <th>Date</th>\n",
              "      <th></th>\n",
              "      <th></th>\n",
              "      <th></th>\n",
              "      <th></th>\n",
              "      <th></th>\n",
              "      <th></th>\n",
              "    </tr>\n",
              "  </thead>\n",
              "  <tbody>\n",
              "    <tr>\n",
              "      <th>2022-01-27</th>\n",
              "      <td>142.000000</td>\n",
              "      <td>144.050003</td>\n",
              "      <td>140.949997</td>\n",
              "      <td>141.300003</td>\n",
              "      <td>141.300003</td>\n",
              "      <td>12310614</td>\n",
              "    </tr>\n",
              "    <tr>\n",
              "      <th>2022-01-28</th>\n",
              "      <td>142.149994</td>\n",
              "      <td>146.199997</td>\n",
              "      <td>141.300003</td>\n",
              "      <td>141.800003</td>\n",
              "      <td>141.800003</td>\n",
              "      <td>8927075</td>\n",
              "    </tr>\n",
              "    <tr>\n",
              "      <th>2022-01-31</th>\n",
              "      <td>143.000000</td>\n",
              "      <td>144.949997</td>\n",
              "      <td>142.449997</td>\n",
              "      <td>144.300003</td>\n",
              "      <td>144.300003</td>\n",
              "      <td>5185472</td>\n",
              "    </tr>\n",
              "    <tr>\n",
              "      <th>2022-02-01</th>\n",
              "      <td>145.000000</td>\n",
              "      <td>148.000000</td>\n",
              "      <td>144.149994</td>\n",
              "      <td>147.500000</td>\n",
              "      <td>147.500000</td>\n",
              "      <td>10241254</td>\n",
              "    </tr>\n",
              "    <tr>\n",
              "      <th>2022-02-02</th>\n",
              "      <td>148.500000</td>\n",
              "      <td>148.750000</td>\n",
              "      <td>146.500000</td>\n",
              "      <td>146.649994</td>\n",
              "      <td>146.649994</td>\n",
              "      <td>2095198</td>\n",
              "    </tr>\n",
              "  </tbody>\n",
              "</table>\n",
              "</div>\n",
              "      <button class=\"colab-df-convert\" onclick=\"convertToInteractive('df-51229ce0-d33e-40b9-a236-72e3c210d058')\"\n",
              "              title=\"Convert this dataframe to an interactive table.\"\n",
              "              style=\"display:none;\">\n",
              "        \n",
              "  <svg xmlns=\"http://www.w3.org/2000/svg\" height=\"24px\"viewBox=\"0 0 24 24\"\n",
              "       width=\"24px\">\n",
              "    <path d=\"M0 0h24v24H0V0z\" fill=\"none\"/>\n",
              "    <path d=\"M18.56 5.44l.94 2.06.94-2.06 2.06-.94-2.06-.94-.94-2.06-.94 2.06-2.06.94zm-11 1L8.5 8.5l.94-2.06 2.06-.94-2.06-.94L8.5 2.5l-.94 2.06-2.06.94zm10 10l.94 2.06.94-2.06 2.06-.94-2.06-.94-.94-2.06-.94 2.06-2.06.94z\"/><path d=\"M17.41 7.96l-1.37-1.37c-.4-.4-.92-.59-1.43-.59-.52 0-1.04.2-1.43.59L10.3 9.45l-7.72 7.72c-.78.78-.78 2.05 0 2.83L4 21.41c.39.39.9.59 1.41.59.51 0 1.02-.2 1.41-.59l7.78-7.78 2.81-2.81c.8-.78.8-2.07 0-2.86zM5.41 20L4 18.59l7.72-7.72 1.47 1.35L5.41 20z\"/>\n",
              "  </svg>\n",
              "      </button>\n",
              "      \n",
              "  <style>\n",
              "    .colab-df-container {\n",
              "      display:flex;\n",
              "      flex-wrap:wrap;\n",
              "      gap: 12px;\n",
              "    }\n",
              "\n",
              "    .colab-df-convert {\n",
              "      background-color: #E8F0FE;\n",
              "      border: none;\n",
              "      border-radius: 50%;\n",
              "      cursor: pointer;\n",
              "      display: none;\n",
              "      fill: #1967D2;\n",
              "      height: 32px;\n",
              "      padding: 0 0 0 0;\n",
              "      width: 32px;\n",
              "    }\n",
              "\n",
              "    .colab-df-convert:hover {\n",
              "      background-color: #E2EBFA;\n",
              "      box-shadow: 0px 1px 2px rgba(60, 64, 67, 0.3), 0px 1px 3px 1px rgba(60, 64, 67, 0.15);\n",
              "      fill: #174EA6;\n",
              "    }\n",
              "\n",
              "    [theme=dark] .colab-df-convert {\n",
              "      background-color: #3B4455;\n",
              "      fill: #D2E3FC;\n",
              "    }\n",
              "\n",
              "    [theme=dark] .colab-df-convert:hover {\n",
              "      background-color: #434B5C;\n",
              "      box-shadow: 0px 1px 3px 1px rgba(0, 0, 0, 0.15);\n",
              "      filter: drop-shadow(0px 1px 2px rgba(0, 0, 0, 0.3));\n",
              "      fill: #FFFFFF;\n",
              "    }\n",
              "  </style>\n",
              "\n",
              "      <script>\n",
              "        const buttonEl =\n",
              "          document.querySelector('#df-51229ce0-d33e-40b9-a236-72e3c210d058 button.colab-df-convert');\n",
              "        buttonEl.style.display =\n",
              "          google.colab.kernel.accessAllowed ? 'block' : 'none';\n",
              "\n",
              "        async function convertToInteractive(key) {\n",
              "          const element = document.querySelector('#df-51229ce0-d33e-40b9-a236-72e3c210d058');\n",
              "          const dataTable =\n",
              "            await google.colab.kernel.invokeFunction('convertToInteractive',\n",
              "                                                     [key], {});\n",
              "          if (!dataTable) return;\n",
              "\n",
              "          const docLinkHtml = 'Like what you see? Visit the ' +\n",
              "            '<a target=\"_blank\" href=https://colab.research.google.com/notebooks/data_table.ipynb>data table notebook</a>'\n",
              "            + ' to learn more about interactive tables.';\n",
              "          element.innerHTML = '';\n",
              "          dataTable['output_type'] = 'display_data';\n",
              "          await google.colab.output.renderOutput(dataTable, element);\n",
              "          const docLink = document.createElement('div');\n",
              "          docLink.innerHTML = docLinkHtml;\n",
              "          element.appendChild(docLink);\n",
              "        }\n",
              "      </script>\n",
              "    </div>\n",
              "  </div>\n",
              "  "
            ],
            "text/plain": [
              "                  Open        High  ...   Adj Close    Volume\n",
              "Date                                ...                      \n",
              "2022-01-27  142.000000  144.050003  ...  141.300003  12310614\n",
              "2022-01-28  142.149994  146.199997  ...  141.800003   8927075\n",
              "2022-01-31  143.000000  144.949997  ...  144.300003   5185472\n",
              "2022-02-01  145.000000  148.000000  ...  147.500000  10241254\n",
              "2022-02-02  148.500000  148.750000  ...  146.649994   2095198\n",
              "\n",
              "[5 rows x 6 columns]"
            ]
          },
          "metadata": {},
          "execution_count": 8
        }
      ],
      "source": [
        "data.tail()"
      ]
    },
    {
      "cell_type": "code",
      "execution_count": 9,
      "id": "6292e20a",
      "metadata": {
        "id": "6292e20a"
      },
      "outputs": [],
      "source": [
        "opn = data[['Open']]"
      ]
    },
    {
      "cell_type": "code",
      "execution_count": 10,
      "id": "21e132d8",
      "metadata": {
        "id": "21e132d8",
        "outputId": "52f49f6f-49ff-4855-da9b-cb64e6c13b8d",
        "colab": {
          "base_uri": "https://localhost:8080/",
          "height": 286
        }
      },
      "outputs": [
        {
          "output_type": "execute_result",
          "data": {
            "text/plain": [
              "<matplotlib.axes._subplots.AxesSubplot at 0x7fc710032bd0>"
            ]
          },
          "metadata": {},
          "execution_count": 10
        },
        {
          "output_type": "display_data",
          "data": {
            "image/png": "[encoded data removed]",
            "text/plain": [
              "<Figure size 432x288 with 1 Axes>"
            ]
          },
          "metadata": {
            "needs_background": "light"
          }
        }
      ],
      "source": [
        "opn.plot()"
      ]
    },
    {
      "cell_type": "code",
      "execution_count": 11,
      "id": "c5194440",
      "metadata": {
        "id": "c5194440"
      },
      "outputs": [],
      "source": [
        "import matplotlib.pyplot as plt"
      ]
    },
    {
      "cell_type": "code",
      "execution_count": 12,
      "id": "8038cb6a",
      "metadata": {
        "id": "8038cb6a"
      },
      "outputs": [],
      "source": [
        "ds = opn.values"
      ]
    },
    {
      "cell_type": "code",
      "execution_count": 13,
      "id": "69b08672",
      "metadata": {
        "id": "69b08672",
        "outputId": "6631f82d-fb21-4365-8a78-01c02910fd5d",
        "colab": {
          "base_uri": "https://localhost:8080/"
        }
      },
      "outputs": [
        {
          "output_type": "execute_result",
          "data": {
            "text/plain": [
              "array([[135.36569214],\n",
              "       [134.15631104],\n",
              "       [134.91569519],\n",
              "       ...,\n",
              "       [143.        ],\n",
              "       [145.        ],\n",
              "       [148.5       ]])"
            ]
          },
          "metadata": {},
          "execution_count": 13
        }
      ],
      "source": [
        "ds"
      ]
    },
    {
      "cell_type": "code",
      "execution_count": 14,
      "id": "af022e3c",
      "metadata": {
        "id": "af022e3c",
        "outputId": "01d05166-fcc3-4999-d1c0-141f181a6b47",
        "colab": {
          "base_uri": "https://localhost:8080/",
          "height": 282
        }
      },
      "outputs": [
        {
          "output_type": "execute_result",
          "data": {
            "text/plain": [
              "[<matplotlib.lines.Line2D at 0x7fc70fac7450>]"
            ]
          },
          "metadata": {},
          "execution_count": 14
        },
        {
          "output_type": "display_data",
          "data": {
            "image/png": "[encoded data removed]",
            "text/plain": [
              "<Figure size 432x288 with 1 Axes>"
            ]
          },
          "metadata": {
            "needs_background": "light"
          }
        }
      ],
      "source": [
        "plt.plot(ds)"
      ]
    },
    {
      "cell_type": "code",
      "execution_count": 15,
      "id": "0e73b789",
      "metadata": {
        "id": "0e73b789"
      },
      "outputs": [],
      "source": [
        "import numpy as np"
      ]
    },
    {
      "cell_type": "code",
      "execution_count": 16,
      "id": "0e6c1c22",
      "metadata": {
        "id": "0e6c1c22"
      },
      "outputs": [],
      "source": [
        "from sklearn.preprocessing import MinMaxScaler"
      ]
    },
    {
      "cell_type": "code",
      "execution_count": 17,
      "id": "cf6a3e1b",
      "metadata": {
        "id": "cf6a3e1b"
      },
      "outputs": [],
      "source": [
        "#Using MinMaxScaler for normalizing data between 0 & 1\n",
        "normalizer = MinMaxScaler(feature_range=(0,1))\n",
        "ds_scaled = normalizer.fit_transform(np.array(ds).reshape(-1,1))"
      ]
    },
    {
      "cell_type": "code",
      "execution_count": 18,
      "id": "7dbea1d5",
      "metadata": {
        "id": "7dbea1d5",
        "outputId": "d32e1bd0-7476-4a26-faa2-b8ce4fdf86cd",
        "colab": {
          "base_uri": "https://localhost:8080/"
        }
      },
      "outputs": [
        {
          "output_type": "execute_result",
          "data": {
            "text/plain": [
              "(1236, 1236)"
            ]
          },
          "metadata": {},
          "execution_count": 18
        }
      ],
      "source": [
        "len(ds_scaled), len(ds)"
      ]
    },
    {
      "cell_type": "code",
      "execution_count": 19,
      "id": "a20c5654",
      "metadata": {
        "id": "a20c5654"
      },
      "outputs": [],
      "source": [
        "#Defining test and train data sizes\n",
        "train_size = int(len(ds_scaled)*0.70)\n",
        "test_size = len(ds_scaled) - train_size"
      ]
    },
    {
      "cell_type": "code",
      "execution_count": 20,
      "id": "b964aa4e",
      "metadata": {
        "id": "b964aa4e",
        "outputId": "5fb4c587-a0d9-4689-f4c3-529f7225b5f0",
        "colab": {
          "base_uri": "https://localhost:8080/"
        }
      },
      "outputs": [
        {
          "output_type": "execute_result",
          "data": {
            "text/plain": [
              "(865, 371)"
            ]
          },
          "metadata": {},
          "execution_count": 20
        }
      ],
      "source": [
        "train_size,test_size"
      ]
    },
    {
      "cell_type": "code",
      "execution_count": 21,
      "id": "25ca615e",
      "metadata": {
        "id": "25ca615e"
      },
      "outputs": [],
      "source": [
        "#Splitting data between train and test\n",
        "ds_train, ds_test = ds_scaled[0:train_size,:], ds_scaled[train_size:len(ds_scaled),:1]"
      ]
    },
    {
      "cell_type": "code",
      "execution_count": 22,
      "id": "95913f28",
      "metadata": {
        "id": "95913f28",
        "outputId": "dadd1b33-41c9-44d9-b924-17c2f9a99998",
        "colab": {
          "base_uri": "https://localhost:8080/"
        }
      },
      "outputs": [
        {
          "output_type": "execute_result",
          "data": {
            "text/plain": [
              "(865, 371)"
            ]
          },
          "metadata": {},
          "execution_count": 22
        }
      ],
      "source": [
        "len(ds_train),len(ds_test)"
      ]
    },
    {
      "cell_type": "code",
      "execution_count": 23,
      "id": "5dd0b45e",
      "metadata": {
        "id": "5dd0b45e"
      },
      "outputs": [],
      "source": [
        "#creating dataset in time series for LSTM model \n",
        "#X[100,120,140,160,180] : Y[200]\n",
        "def create_ds(dataset,step):\n",
        "    Xtrain, Ytrain = [], []\n",
        "    for i in range(len(dataset)-step-1):\n",
        "        a = dataset[i:(i+step), 0]\n",
        "        Xtrain.append(a)\n",
        "        Ytrain.append(dataset[i + step, 0])\n",
        "    return np.array(Xtrain), np.array(Ytrain)"
      ]
    },
    {
      "cell_type": "code",
      "execution_count": 24,
      "id": "d28b7d1d",
      "metadata": {
        "id": "d28b7d1d"
      },
      "outputs": [],
      "source": [
        "#Taking 100 days price as one record for training\n",
        "time_stamp = 100\n",
        "X_train, y_train = create_ds(ds_train,time_stamp)\n",
        "X_test, y_test = create_ds(ds_test,time_stamp)"
      ]
    },
    {
      "cell_type": "code",
      "execution_count": 25,
      "id": "03ce9096",
      "metadata": {
        "id": "03ce9096",
        "outputId": "eea14a88-6369-4231-f215-667796780952",
        "colab": {
          "base_uri": "https://localhost:8080/"
        }
      },
      "outputs": [
        {
          "output_type": "execute_result",
          "data": {
            "text/plain": [
              "((764, 100), (764,))"
            ]
          },
          "metadata": {},
          "execution_count": 25
        }
      ],
      "source": [
        "X_train.shape,y_train.shape"
      ]
    },
    {
      "cell_type": "code",
      "execution_count": 26,
      "id": "84acdd72",
      "metadata": {
        "id": "84acdd72",
        "outputId": "98e665a8-d47f-4d6d-f036-dc9552e7719f",
        "colab": {
          "base_uri": "https://localhost:8080/"
        }
      },
      "outputs": [
        {
          "output_type": "execute_result",
          "data": {
            "text/plain": [
              "((270, 100), (270,))"
            ]
          },
          "metadata": {},
          "execution_count": 26
        }
      ],
      "source": [
        "X_test.shape, y_test.shape"
      ]
    },
    {
      "cell_type": "code",
      "execution_count": 27,
      "id": "c657d193",
      "metadata": {
        "id": "c657d193"
      },
      "outputs": [],
      "source": [
        "#Reshaping data to fit into LSTM model\n",
        "X_train = X_train.reshape(X_train.shape[0],X_train.shape[1] , 1)\n",
        "X_test = X_test.reshape(X_test.shape[0],X_test.shape[1] , 1)"
      ]
    },
    {
      "cell_type": "code",
      "execution_count": 28,
      "id": "82844671",
      "metadata": {
        "id": "82844671"
      },
      "outputs": [],
      "source": [
        "from keras.models import Sequential\n",
        "from keras.layers import Dense, LSTM"
      ]
    },
    {
      "cell_type": "code",
      "execution_count": 29,
      "id": "b5250913",
      "metadata": {
        "id": "b5250913",
        "outputId": "f0c83b75-a57b-4ff9-d692-099a7519694b",
        "colab": {
          "base_uri": "https://localhost:8080/"
        }
      },
      "outputs": [
        {
          "output_type": "stream",
          "name": "stdout",
          "text": [
            "Model: \"sequential\"\n",
            "_________________________________________________________________\n",
            " Layer (type)                Output Shape              Param #   \n",
            "=================================================================\n",
            " lstm (LSTM)                 (None, 100, 50)           10400     \n",
            "                                                                 \n",
            " lstm_1 (LSTM)               (None, 100, 50)           20200     \n",
            "                                                                 \n",
            " lstm_2 (LSTM)               (None, 50)                20200     \n",
            "                                                                 \n",
            " dense (Dense)               (None, 1)                 51        \n",
            "                                                                 \n",
            "=================================================================\n",
            "Total params: 50,851\n",
            "Trainable params: 50,851\n",
            "Non-trainable params: 0\n",
            "_________________________________________________________________\n"
          ]
        }
      ],
      "source": [
        "#Creating LSTM model using keras\n",
        "model = Sequential()\n",
        "model.add(LSTM(units=50,return_sequences=True,input_shape=(X_train.shape[1],1)))\n",
        "model.add(LSTM(units=50,return_sequences=True))\n",
        "model.add(LSTM(units=50))\n",
        "model.add(Dense(units=1,activation='linear'))\n",
        "model.summary()"
      ]
    },
    {
      "cell_type": "code",
      "execution_count": 30,
      "id": "7e8ff062",
      "metadata": {
        "id": "7e8ff062",
        "outputId": "ef171e81-4e96-4cd4-f80a-5dbb7abeb520",
        "colab": {
          "base_uri": "https://localhost:8080/"
        }
      },
      "outputs": [
        {
          "output_type": "stream",
          "name": "stdout",
          "text": [
            "Epoch 1/100\n",
            "12/12 [==============================] - 10s 380ms/step - loss: 0.1231 - val_loss: 0.0083\n",
            "Epoch 2/100\n",
            "12/12 [==============================] - 4s 316ms/step - loss: 0.0209 - val_loss: 0.0160\n",
            "Epoch 3/100\n",
            "12/12 [==============================] - 2s 200ms/step - loss: 0.0112 - val_loss: 0.0038\n",
            "Epoch 4/100\n",
            "12/12 [==============================] - 2s 198ms/step - loss: 0.0069 - val_loss: 0.0038\n",
            "Epoch 5/100\n",
            "12/12 [==============================] - 2s 199ms/step - loss: 0.0050 - val_loss: 0.0040\n",
            "Epoch 6/100\n",
            "12/12 [==============================] - 2s 200ms/step - loss: 0.0040 - val_loss: 0.0039\n",
            "Epoch 7/100\n",
            "12/12 [==============================] - 2s 204ms/step - loss: 0.0037 - val_loss: 0.0040\n",
            "Epoch 8/100\n",
            "12/12 [==============================] - 2s 202ms/step - loss: 0.0036 - val_loss: 0.0041\n",
            "Epoch 9/100\n",
            "12/12 [==============================] - 2s 202ms/step - loss: 0.0035 - val_loss: 0.0043\n",
            "Epoch 10/100\n",
            "12/12 [==============================] - 2s 203ms/step - loss: 0.0035 - val_loss: 0.0039\n",
            "Epoch 11/100\n",
            "12/12 [==============================] - 2s 204ms/step - loss: 0.0034 - val_loss: 0.0044\n",
            "Epoch 12/100\n",
            "12/12 [==============================] - 2s 204ms/step - loss: 0.0035 - val_loss: 0.0037\n",
            "Epoch 13/100\n",
            "12/12 [==============================] - 2s 198ms/step - loss: 0.0033 - val_loss: 0.0036\n",
            "Epoch 14/100\n",
            "12/12 [==============================] - 2s 200ms/step - loss: 0.0032 - val_loss: 0.0036\n",
            "Epoch 15/100\n",
            "12/12 [==============================] - 2s 201ms/step - loss: 0.0032 - val_loss: 0.0035\n",
            "Epoch 16/100\n",
            "12/12 [==============================] - 2s 204ms/step - loss: 0.0033 - val_loss: 0.0034\n",
            "Epoch 17/100\n",
            "12/12 [==============================] - 2s 201ms/step - loss: 0.0032 - val_loss: 0.0040\n",
            "Epoch 18/100\n",
            "12/12 [==============================] - 2s 198ms/step - loss: 0.0032 - val_loss: 0.0033\n",
            "Epoch 19/100\n",
            "12/12 [==============================] - 2s 199ms/step - loss: 0.0030 - val_loss: 0.0033\n",
            "Epoch 20/100\n",
            "12/12 [==============================] - 2s 200ms/step - loss: 0.0029 - val_loss: 0.0032\n",
            "Epoch 21/100\n",
            "12/12 [==============================] - 2s 200ms/step - loss: 0.0029 - val_loss: 0.0031\n",
            "Epoch 22/100\n",
            "12/12 [==============================] - 2s 199ms/step - loss: 0.0028 - val_loss: 0.0031\n",
            "Epoch 23/100\n",
            "12/12 [==============================] - 2s 202ms/step - loss: 0.0027 - val_loss: 0.0031\n",
            "Epoch 24/100\n",
            "12/12 [==============================] - 2s 201ms/step - loss: 0.0028 - val_loss: 0.0030\n",
            "Epoch 25/100\n",
            "12/12 [==============================] - 2s 199ms/step - loss: 0.0027 - val_loss: 0.0030\n",
            "Epoch 26/100\n",
            "12/12 [==============================] - 2s 199ms/step - loss: 0.0026 - val_loss: 0.0030\n",
            "Epoch 27/100\n",
            "12/12 [==============================] - 2s 201ms/step - loss: 0.0027 - val_loss: 0.0031\n",
            "Epoch 28/100\n",
            "12/12 [==============================] - 2s 198ms/step - loss: 0.0027 - val_loss: 0.0029\n",
            "Epoch 29/100\n",
            "12/12 [==============================] - 2s 203ms/step - loss: 0.0026 - val_loss: 0.0029\n",
            "Epoch 30/100\n",
            "12/12 [==============================] - 2s 202ms/step - loss: 0.0025 - val_loss: 0.0029\n",
            "Epoch 31/100\n",
            "12/12 [==============================] - 2s 202ms/step - loss: 0.0026 - val_loss: 0.0030\n",
            "Epoch 32/100\n",
            "12/12 [==============================] - 2s 207ms/step - loss: 0.0029 - val_loss: 0.0029\n",
            "Epoch 33/100\n",
            "12/12 [==============================] - 2s 201ms/step - loss: 0.0026 - val_loss: 0.0027\n",
            "Epoch 34/100\n",
            "12/12 [==============================] - 2s 197ms/step - loss: 0.0025 - val_loss: 0.0027\n",
            "Epoch 35/100\n",
            "12/12 [==============================] - 2s 200ms/step - loss: 0.0025 - val_loss: 0.0027\n",
            "Epoch 36/100\n",
            "12/12 [==============================] - 2s 201ms/step - loss: 0.0025 - val_loss: 0.0029\n",
            "Epoch 37/100\n",
            "12/12 [==============================] - 2s 201ms/step - loss: 0.0025 - val_loss: 0.0026\n",
            "Epoch 38/100\n",
            "12/12 [==============================] - 2s 203ms/step - loss: 0.0025 - val_loss: 0.0028\n",
            "Epoch 39/100\n",
            "12/12 [==============================] - 2s 204ms/step - loss: 0.0025 - val_loss: 0.0026\n",
            "Epoch 40/100\n",
            "12/12 [==============================] - 2s 202ms/step - loss: 0.0024 - val_loss: 0.0027\n",
            "Epoch 41/100\n",
            "12/12 [==============================] - 2s 201ms/step - loss: 0.0023 - val_loss: 0.0027\n",
            "Epoch 42/100\n",
            "12/12 [==============================] - 2s 202ms/step - loss: 0.0023 - val_loss: 0.0028\n",
            "Epoch 43/100\n",
            "12/12 [==============================] - 2s 204ms/step - loss: 0.0025 - val_loss: 0.0026\n",
            "Epoch 44/100\n",
            "12/12 [==============================] - 2s 201ms/step - loss: 0.0023 - val_loss: 0.0025\n",
            "Epoch 45/100\n",
            "12/12 [==============================] - 2s 202ms/step - loss: 0.0023 - val_loss: 0.0024\n",
            "Epoch 46/100\n",
            "12/12 [==============================] - 2s 199ms/step - loss: 0.0022 - val_loss: 0.0024\n",
            "Epoch 47/100\n",
            "12/12 [==============================] - 2s 197ms/step - loss: 0.0023 - val_loss: 0.0026\n",
            "Epoch 48/100\n",
            "12/12 [==============================] - 2s 200ms/step - loss: 0.0023 - val_loss: 0.0024\n",
            "Epoch 49/100\n",
            "12/12 [==============================] - 2s 202ms/step - loss: 0.0024 - val_loss: 0.0024\n",
            "Epoch 50/100\n",
            "12/12 [==============================] - 2s 201ms/step - loss: 0.0022 - val_loss: 0.0023\n",
            "Epoch 51/100\n",
            "12/12 [==============================] - 2s 208ms/step - loss: 0.0021 - val_loss: 0.0024\n",
            "Epoch 52/100\n",
            "12/12 [==============================] - 2s 205ms/step - loss: 0.0021 - val_loss: 0.0023\n",
            "Epoch 53/100\n",
            "12/12 [==============================] - 2s 203ms/step - loss: 0.0022 - val_loss: 0.0022\n",
            "Epoch 54/100\n",
            "12/12 [==============================] - 2s 199ms/step - loss: 0.0020 - val_loss: 0.0022\n",
            "Epoch 55/100\n",
            "12/12 [==============================] - 2s 203ms/step - loss: 0.0021 - val_loss: 0.0022\n",
            "Epoch 56/100\n",
            "12/12 [==============================] - 2s 200ms/step - loss: 0.0020 - val_loss: 0.0023\n",
            "Epoch 57/100\n",
            "12/12 [==============================] - 2s 202ms/step - loss: 0.0020 - val_loss: 0.0024\n",
            "Epoch 58/100\n",
            "12/12 [==============================] - 2s 204ms/step - loss: 0.0020 - val_loss: 0.0021\n",
            "Epoch 59/100\n",
            "12/12 [==============================] - 2s 202ms/step - loss: 0.0019 - val_loss: 0.0022\n",
            "Epoch 60/100\n",
            "12/12 [==============================] - 2s 205ms/step - loss: 0.0020 - val_loss: 0.0020\n",
            "Epoch 61/100\n",
            "12/12 [==============================] - 2s 202ms/step - loss: 0.0019 - val_loss: 0.0020\n",
            "Epoch 62/100\n",
            "12/12 [==============================] - 2s 205ms/step - loss: 0.0020 - val_loss: 0.0020\n",
            "Epoch 63/100\n",
            "12/12 [==============================] - 2s 199ms/step - loss: 0.0018 - val_loss: 0.0020\n",
            "Epoch 64/100\n",
            "12/12 [==============================] - 2s 201ms/step - loss: 0.0019 - val_loss: 0.0020\n",
            "Epoch 65/100\n",
            "12/12 [==============================] - 2s 201ms/step - loss: 0.0019 - val_loss: 0.0019\n",
            "Epoch 66/100\n",
            "12/12 [==============================] - 2s 201ms/step - loss: 0.0018 - val_loss: 0.0019\n",
            "Epoch 67/100\n",
            "12/12 [==============================] - 2s 202ms/step - loss: 0.0019 - val_loss: 0.0018\n",
            "Epoch 68/100\n",
            "12/12 [==============================] - 2s 206ms/step - loss: 0.0019 - val_loss: 0.0019\n",
            "Epoch 69/100\n",
            "12/12 [==============================] - 2s 198ms/step - loss: 0.0020 - val_loss: 0.0019\n",
            "Epoch 70/100\n",
            "12/12 [==============================] - 2s 196ms/step - loss: 0.0020 - val_loss: 0.0018\n",
            "Epoch 71/100\n",
            "12/12 [==============================] - 2s 199ms/step - loss: 0.0017 - val_loss: 0.0018\n",
            "Epoch 72/100\n",
            "12/12 [==============================] - 2s 199ms/step - loss: 0.0017 - val_loss: 0.0018\n",
            "Epoch 73/100\n",
            "12/12 [==============================] - 2s 200ms/step - loss: 0.0018 - val_loss: 0.0018\n",
            "Epoch 74/100\n",
            "12/12 [==============================] - 2s 200ms/step - loss: 0.0017 - val_loss: 0.0017\n",
            "Epoch 75/100\n",
            "12/12 [==============================] - 2s 199ms/step - loss: 0.0018 - val_loss: 0.0016\n",
            "Epoch 76/100\n",
            "12/12 [==============================] - 2s 197ms/step - loss: 0.0017 - val_loss: 0.0017\n",
            "Epoch 77/100\n",
            "12/12 [==============================] - 2s 199ms/step - loss: 0.0018 - val_loss: 0.0017\n",
            "Epoch 78/100\n",
            "12/12 [==============================] - 2s 201ms/step - loss: 0.0017 - val_loss: 0.0016\n",
            "Epoch 79/100\n",
            "12/12 [==============================] - 2s 203ms/step - loss: 0.0016 - val_loss: 0.0019\n",
            "Epoch 80/100\n",
            "12/12 [==============================] - 2s 201ms/step - loss: 0.0018 - val_loss: 0.0016\n",
            "Epoch 81/100\n",
            "12/12 [==============================] - 2s 203ms/step - loss: 0.0016 - val_loss: 0.0016\n",
            "Epoch 82/100\n",
            "12/12 [==============================] - 2s 201ms/step - loss: 0.0017 - val_loss: 0.0015\n",
            "Epoch 83/100\n",
            "12/12 [==============================] - 2s 199ms/step - loss: 0.0015 - val_loss: 0.0015\n",
            "Epoch 84/100\n",
            "12/12 [==============================] - 2s 204ms/step - loss: 0.0016 - val_loss: 0.0014\n",
            "Epoch 85/100\n",
            "12/12 [==============================] - 2s 203ms/step - loss: 0.0015 - val_loss: 0.0014\n",
            "Epoch 86/100\n",
            "12/12 [==============================] - 2s 201ms/step - loss: 0.0015 - val_loss: 0.0015\n",
            "Epoch 87/100\n",
            "12/12 [==============================] - 2s 207ms/step - loss: 0.0015 - val_loss: 0.0014\n",
            "Epoch 88/100\n",
            "12/12 [==============================] - 2s 201ms/step - loss: 0.0015 - val_loss: 0.0014\n",
            "Epoch 89/100\n",
            "12/12 [==============================] - 2s 201ms/step - loss: 0.0015 - val_loss: 0.0014\n",
            "Epoch 90/100\n",
            "12/12 [==============================] - 2s 203ms/step - loss: 0.0014 - val_loss: 0.0013\n",
            "Epoch 91/100\n",
            "12/12 [==============================] - 2s 206ms/step - loss: 0.0014 - val_loss: 0.0013\n",
            "Epoch 92/100\n",
            "12/12 [==============================] - 2s 207ms/step - loss: 0.0014 - val_loss: 0.0013\n",
            "Epoch 93/100\n",
            "12/12 [==============================] - 2s 201ms/step - loss: 0.0014 - val_loss: 0.0012\n",
            "Epoch 94/100\n",
            "12/12 [==============================] - 2s 201ms/step - loss: 0.0015 - val_loss: 0.0015\n",
            "Epoch 95/100\n",
            "12/12 [==============================] - 2s 202ms/step - loss: 0.0017 - val_loss: 0.0014\n",
            "Epoch 96/100\n",
            "12/12 [==============================] - 2s 200ms/step - loss: 0.0016 - val_loss: 0.0032\n",
            "Epoch 97/100\n",
            "12/12 [==============================] - 2s 199ms/step - loss: 0.0027 - val_loss: 0.0024\n",
            "Epoch 98/100\n",
            "12/12 [==============================] - 2s 201ms/step - loss: 0.0018 - val_loss: 0.0014\n",
            "Epoch 99/100\n",
            "12/12 [==============================] - 2s 202ms/step - loss: 0.0014 - val_loss: 0.0013\n",
            "Epoch 100/100\n",
            "12/12 [==============================] - 2s 202ms/step - loss: 0.0013 - val_loss: 0.0011\n"
          ]
        },
        {
          "output_type": "execute_result",
          "data": {
            "text/plain": [
              "<keras.callbacks.History at 0x7fc69766f1d0>"
            ]
          },
          "metadata": {},
          "execution_count": 30
        }
      ],
      "source": [
        "#Training model with adam optimizer and mean squared error loss function\n",
        "model.compile(loss='mean_squared_error',optimizer='adam')\n",
        "model.fit(X_train,y_train,validation_data=(X_test,y_test),epochs=100,batch_size=64)"
      ]
    },
    {
      "cell_type": "code",
      "execution_count": 31,
      "id": "18b1ba6a",
      "metadata": {
        "id": "18b1ba6a",
        "outputId": "a11a206d-9a3d-4247-ac8c-d68cd42b6dd5",
        "colab": {
          "base_uri": "https://localhost:8080/",
          "height": 282
        }
      },
      "outputs": [
        {
          "output_type": "execute_result",
          "data": {
            "text/plain": [
              "[<matplotlib.lines.Line2D at 0x7fc6975d0050>]"
            ]
          },
          "metadata": {},
          "execution_count": 31
        },
        {
          "output_type": "display_data",
          "data": {
            "image/png": "[encoded data removed]",
            "text/plain": [
              "<Figure size 432x288 with 1 Axes>"
            ]
          },
          "metadata": {
            "needs_background": "light"
          }
        }
      ],
      "source": [
        "#PLotting loss, it shows that loss has decreased significantly and model trained well\n",
        "loss = model.history.history['loss']\n",
        "plt.plot(loss)"
      ]
    },
    {
      "cell_type": "code",
      "execution_count": 32,
      "id": "3e7f2fc8",
      "metadata": {
        "id": "3e7f2fc8"
      },
      "outputs": [],
      "source": [
        "#Predicitng on train and test data\n",
        "train_predict = model.predict(X_train)\n",
        "test_predict = model.predict(X_test)"
      ]
    },
    {
      "cell_type": "code",
      "execution_count": 33,
      "id": "c2d6c2d5",
      "metadata": {
        "id": "c2d6c2d5"
      },
      "outputs": [],
      "source": [
        "#Inverse transform to get actual value\n",
        "train_predict = normalizer.inverse_transform(train_predict)\n",
        "test_predict = normalizer.inverse_transform(test_predict)"
      ]
    },
    {
      "cell_type": "code",
      "execution_count": 34,
      "id": "9d0543ad",
      "metadata": {
        "id": "9d0543ad",
        "outputId": "08ba2f9d-78a6-45a7-94d2-2d6dc3f087f4",
        "colab": {
          "base_uri": "https://localhost:8080/",
          "height": 282
        }
      },
      "outputs": [
        {
          "output_type": "execute_result",
          "data": {
            "text/plain": [
              "[<matplotlib.lines.Line2D at 0x7fc6972f7810>]"
            ]
          },
          "metadata": {},
          "execution_count": 34
        },
        {
          "output_type": "display_data",
          "data": {
            "image/png": "[encoded data removed]",
            "text/plain": [
              "<Figure size 432x288 with 1 Axes>"
            ]
          },
          "metadata": {
            "needs_background": "light"
          }
        }
      ],
      "source": [
        "#Comparing using visuals\n",
        "plt.plot(normalizer.inverse_transform(ds_scaled))\n",
        "plt.plot(train_predict)\n",
        "plt.plot(test_predict)"
      ]
    },
    {
      "cell_type": "code",
      "execution_count": 35,
      "id": "55300bae",
      "metadata": {
        "id": "55300bae",
        "outputId": "6ed566c7-438b-42fd-c3e0-e4757767c0e5",
        "colab": {
          "base_uri": "https://localhost:8080/"
        }
      },
      "outputs": [
        {
          "output_type": "execute_result",
          "data": {
            "text/plain": [
              "numpy.ndarray"
            ]
          },
          "metadata": {},
          "execution_count": 35
        }
      ],
      "source": [
        "type(train_predict)"
      ]
    },
    {
      "cell_type": "code",
      "execution_count": 41,
      "id": "bf6d5613",
      "metadata": {
        "id": "bf6d5613"
      },
      "outputs": [],
      "source": [
        "test = np.vstack((train_predict,test_predict))\n",
        "#test = np.vstack((ds[:100],test))"
      ]
    },
    {
      "cell_type": "code",
      "execution_count": 42,
      "id": "41b272ff",
      "metadata": {
        "id": "41b272ff",
        "outputId": "a15d43f9-a189-45c3-a7f3-a02ae7196b3e",
        "colab": {
          "base_uri": "https://localhost:8080/",
          "height": 282
        }
      },
      "outputs": [
        {
          "output_type": "execute_result",
          "data": {
            "text/plain": [
              "[<matplotlib.lines.Line2D at 0x7fc6927c09d0>]"
            ]
          },
          "metadata": {},
          "execution_count": 42
        },
        {
          "output_type": "display_data",
          "data": {
            "image/png": "[encoded data removed]",
            "text/plain": [
              "<Figure size 432x288 with 1 Axes>"
            ]
          },
          "metadata": {
            "needs_background": "light"
          }
        }
      ],
      "source": [
        "#Combining the predited data to create uniform data visualization\n",
        "plt.plot(normalizer.inverse_transform(ds_scaled))\n",
        "plt.plot(test)"
      ]
    },
    {
      "cell_type": "code",
      "execution_count": 43,
      "id": "16af9283",
      "metadata": {
        "id": "16af9283",
        "outputId": "806e008e-c27b-49fc-dfc6-171c4de74d7e",
        "colab": {
          "base_uri": "https://localhost:8080/"
        }
      },
      "outputs": [
        {
          "output_type": "execute_result",
          "data": {
            "text/plain": [
              "371"
            ]
          },
          "metadata": {},
          "execution_count": 43
        }
      ],
      "source": [
        "len(ds_test)"
      ]
    },
    {
      "cell_type": "code",
      "execution_count": 44,
      "id": "c13df7b8",
      "metadata": {
        "id": "c13df7b8"
      },
      "outputs": [],
      "source": [
        "#Getting the last 100 days records\n",
        "fut_inp = ds_test[270:]"
      ]
    },
    {
      "cell_type": "code",
      "execution_count": 45,
      "id": "52b30579",
      "metadata": {
        "id": "52b30579"
      },
      "outputs": [],
      "source": [
        "fut_inp = fut_inp.reshape(1,-1)"
      ]
    },
    {
      "cell_type": "code",
      "execution_count": 46,
      "id": "ac2686a6",
      "metadata": {
        "id": "ac2686a6"
      },
      "outputs": [],
      "source": [
        "tmp_inp = list(fut_inp)"
      ]
    },
    {
      "cell_type": "code",
      "execution_count": 47,
      "id": "dad5024f",
      "metadata": {
        "id": "dad5024f",
        "outputId": "4f32ec0f-5bb5-450b-abf6-accaeb331545",
        "colab": {
          "base_uri": "https://localhost:8080/"
        }
      },
      "outputs": [
        {
          "output_type": "execute_result",
          "data": {
            "text/plain": [
              "(1, 101)"
            ]
          },
          "metadata": {},
          "execution_count": 47
        }
      ],
      "source": [
        "fut_inp.shape"
      ]
    },
    {
      "cell_type": "code",
      "execution_count": 48,
      "id": "98042a30",
      "metadata": {
        "id": "98042a30"
      },
      "outputs": [],
      "source": [
        "#Creating list of the last 100 data\n",
        "tmp_inp = tmp_inp[0].tolist()"
      ]
    },
    {
      "cell_type": "code",
      "execution_count": 49,
      "id": "44799d02",
      "metadata": {
        "id": "44799d02",
        "outputId": "fd57067a-0aa4-4f79-f0f4-9f2062afd644",
        "colab": {
          "base_uri": "https://localhost:8080/"
        }
      },
      "outputs": [
        {
          "output_type": "stream",
          "name": "stdout",
          "text": [
            "[[0.5864077210426331], [0.5928774476051331], [0.5961953401565552], [0.5978896021842957], [0.5987918376922607], [0.599309504032135], [0.5996293425559998], [0.599838376045227], [0.5999833345413208], [0.6000939011573792], [0.600193440914154], [0.6002984046936035], [0.6004211902618408], [0.6005696654319763], [0.6007475256919861], [0.6009550094604492], [0.6011906862258911], [0.6014508605003357], [0.6017310619354248], [0.6020265221595764], [0.6023328304290771], [0.6026455163955688], [0.6029611825942993], [0.6032770872116089], [0.6035912036895752], [0.6039025783538818], [0.6042101979255676], [0.6045147180557251], [0.6048162579536438], [0.6051154732704163]]\n"
          ]
        }
      ],
      "source": [
        "#Predicting next 30 days price suing the current data\n",
        "#It will predict in sliding window manner (algorithm) with stride 1\n",
        "lst_output=[]\n",
        "n_steps=100\n",
        "i=0\n",
        "while(i<30):\n",
        "    \n",
        "    if(len(tmp_inp)>100):\n",
        "        fut_inp = np.array(tmp_inp[1:])\n",
        "        fut_inp=fut_inp.reshape(1,-1)\n",
        "        fut_inp = fut_inp.reshape((1, n_steps, 1))\n",
        "        yhat = model.predict(fut_inp, verbose=0)\n",
        "        tmp_inp.extend(yhat[0].tolist())\n",
        "        tmp_inp = tmp_inp[1:]\n",
        "        lst_output.extend(yhat.tolist())\n",
        "        i=i+1\n",
        "    else:\n",
        "        fut_inp = fut_inp.reshape((1, n_steps,1))\n",
        "        yhat = model.predict(fut_inp, verbose=0)\n",
        "        tmp_inp.extend(yhat[0].tolist())\n",
        "        lst_output.extend(yhat.tolist())\n",
        "        i=i+1\n",
        "    \n",
        "\n",
        "print(lst_output)"
      ]
    },
    {
      "cell_type": "code",
      "execution_count": 50,
      "id": "d49a83e5",
      "metadata": {
        "id": "d49a83e5",
        "outputId": "e15f7fda-5d0f-4ffa-b215-41de83900c94",
        "colab": {
          "base_uri": "https://localhost:8080/"
        }
      },
      "outputs": [
        {
          "output_type": "execute_result",
          "data": {
            "text/plain": [
              "1236"
            ]
          },
          "metadata": {},
          "execution_count": 50
        }
      ],
      "source": [
        "len(ds_scaled)"
      ]
    },
    {
      "cell_type": "code",
      "execution_count": 51,
      "id": "49450ea7",
      "metadata": {
        "id": "49450ea7"
      },
      "outputs": [],
      "source": [
        "#Creating a dummy plane to plot graph one after another\n",
        "plot_new=np.arange(1,101)\n",
        "plot_pred=np.arange(101,131)"
      ]
    },
    {
      "cell_type": "code",
      "execution_count": 52,
      "id": "29f84e31",
      "metadata": {
        "id": "29f84e31",
        "outputId": "2b5e01fb-d79a-48bf-bbe3-851ccd23b504",
        "colab": {
          "base_uri": "https://localhost:8080/",
          "height": 580
        }
      },
      "outputs": [
        {
          "output_type": "error",
          "ename": "ValueError",
          "evalue": "ignored",
          "traceback": [
            "\u001b[0;31m---------------------------------------------------------------------------\u001b[0m",
            "\u001b[0;31mValueError\u001b[0m                                Traceback (most recent call last)",
            "\u001b[0;32m<ipython-input-52-7c350a293de3>\u001b[0m in \u001b[0;36m<module>\u001b[0;34m()\u001b[0m\n\u001b[0;32m----> 1\u001b[0;31m \u001b[0mplt\u001b[0m\u001b[0;34m.\u001b[0m\u001b[0mplot\u001b[0m\u001b[0;34m(\u001b[0m\u001b[0mplot_new\u001b[0m\u001b[0;34m,\u001b[0m \u001b[0mnormalizer\u001b[0m\u001b[0;34m.\u001b[0m\u001b[0minverse_transform\u001b[0m\u001b[0;34m(\u001b[0m\u001b[0mds_scaled\u001b[0m\u001b[0;34m[\u001b[0m\u001b[0;36m1132\u001b[0m\u001b[0;34m:\u001b[0m\u001b[0;34m]\u001b[0m\u001b[0;34m)\u001b[0m\u001b[0;34m)\u001b[0m\u001b[0;34m\u001b[0m\u001b[0;34m\u001b[0m\u001b[0m\n\u001b[0m\u001b[1;32m      2\u001b[0m \u001b[0mplt\u001b[0m\u001b[0;34m.\u001b[0m\u001b[0mplot\u001b[0m\u001b[0;34m(\u001b[0m\u001b[0mplot_pred\u001b[0m\u001b[0;34m,\u001b[0m \u001b[0mnormalizer\u001b[0m\u001b[0;34m.\u001b[0m\u001b[0minverse_transform\u001b[0m\u001b[0;34m(\u001b[0m\u001b[0mlst_output\u001b[0m\u001b[0;34m)\u001b[0m\u001b[0;34m)\u001b[0m\u001b[0;34m\u001b[0m\u001b[0;34m\u001b[0m\u001b[0m\n",
            "\u001b[0;32m/usr/local/lib/python3.7/dist-packages/matplotlib/pyplot.py\u001b[0m in \u001b[0;36mplot\u001b[0;34m(scalex, scaley, data, *args, **kwargs)\u001b[0m\n\u001b[1;32m   2761\u001b[0m     return gca().plot(\n\u001b[1;32m   2762\u001b[0m         *args, scalex=scalex, scaley=scaley, **({\"data\": data} if data\n\u001b[0;32m-> 2763\u001b[0;31m         is not None else {}), **kwargs)\n\u001b[0m\u001b[1;32m   2764\u001b[0m \u001b[0;34m\u001b[0m\u001b[0m\n\u001b[1;32m   2765\u001b[0m \u001b[0;34m\u001b[0m\u001b[0m\n",
            "\u001b[0;32m/usr/local/lib/python3.7/dist-packages/matplotlib/axes/_axes.py\u001b[0m in \u001b[0;36mplot\u001b[0;34m(self, scalex, scaley, data, *args, **kwargs)\u001b[0m\n\u001b[1;32m   1645\u001b[0m         \"\"\"\n\u001b[1;32m   1646\u001b[0m         \u001b[0mkwargs\u001b[0m \u001b[0;34m=\u001b[0m \u001b[0mcbook\u001b[0m\u001b[0;34m.\u001b[0m\u001b[0mnormalize_kwargs\u001b[0m\u001b[0;34m(\u001b[0m\u001b[0mkwargs\u001b[0m\u001b[0;34m,\u001b[0m \u001b[0mmlines\u001b[0m\u001b[0;34m.\u001b[0m\u001b[0mLine2D\u001b[0m\u001b[0;34m)\u001b[0m\u001b[0;34m\u001b[0m\u001b[0;34m\u001b[0m\u001b[0m\n\u001b[0;32m-> 1647\u001b[0;31m         \u001b[0mlines\u001b[0m \u001b[0;34m=\u001b[0m \u001b[0;34m[\u001b[0m\u001b[0;34m*\u001b[0m\u001b[0mself\u001b[0m\u001b[0;34m.\u001b[0m\u001b[0m_get_lines\u001b[0m\u001b[0;34m(\u001b[0m\u001b[0;34m*\u001b[0m\u001b[0margs\u001b[0m\u001b[0;34m,\u001b[0m \u001b[0mdata\u001b[0m\u001b[0;34m=\u001b[0m\u001b[0mdata\u001b[0m\u001b[0;34m,\u001b[0m \u001b[0;34m**\u001b[0m\u001b[0mkwargs\u001b[0m\u001b[0;34m)\u001b[0m\u001b[0;34m]\u001b[0m\u001b[0;34m\u001b[0m\u001b[0;34m\u001b[0m\u001b[0m\n\u001b[0m\u001b[1;32m   1648\u001b[0m         \u001b[0;32mfor\u001b[0m \u001b[0mline\u001b[0m \u001b[0;32min\u001b[0m \u001b[0mlines\u001b[0m\u001b[0;34m:\u001b[0m\u001b[0;34m\u001b[0m\u001b[0;34m\u001b[0m\u001b[0m\n\u001b[1;32m   1649\u001b[0m             \u001b[0mself\u001b[0m\u001b[0;34m.\u001b[0m\u001b[0madd_line\u001b[0m\u001b[0;34m(\u001b[0m\u001b[0mline\u001b[0m\u001b[0;34m)\u001b[0m\u001b[0;34m\u001b[0m\u001b[0;34m\u001b[0m\u001b[0m\n",
            "\u001b[0;32m/usr/local/lib/python3.7/dist-packages/matplotlib/axes/_base.py\u001b[0m in \u001b[0;36m__call__\u001b[0;34m(self, *args, **kwargs)\u001b[0m\n\u001b[1;32m    214\u001b[0m                 \u001b[0mthis\u001b[0m \u001b[0;34m+=\u001b[0m \u001b[0margs\u001b[0m\u001b[0;34m[\u001b[0m\u001b[0;36m0\u001b[0m\u001b[0;34m]\u001b[0m\u001b[0;34m,\u001b[0m\u001b[0;34m\u001b[0m\u001b[0;34m\u001b[0m\u001b[0m\n\u001b[1;32m    215\u001b[0m                 \u001b[0margs\u001b[0m \u001b[0;34m=\u001b[0m \u001b[0margs\u001b[0m\u001b[0;34m[\u001b[0m\u001b[0;36m1\u001b[0m\u001b[0;34m:\u001b[0m\u001b[0;34m]\u001b[0m\u001b[0;34m\u001b[0m\u001b[0;34m\u001b[0m\u001b[0m\n\u001b[0;32m--> 216\u001b[0;31m             \u001b[0;32myield\u001b[0m \u001b[0;32mfrom\u001b[0m \u001b[0mself\u001b[0m\u001b[0;34m.\u001b[0m\u001b[0m_plot_args\u001b[0m\u001b[0;34m(\u001b[0m\u001b[0mthis\u001b[0m\u001b[0;34m,\u001b[0m \u001b[0mkwargs\u001b[0m\u001b[0;34m)\u001b[0m\u001b[0;34m\u001b[0m\u001b[0;34m\u001b[0m\u001b[0m\n\u001b[0m\u001b[1;32m    217\u001b[0m \u001b[0;34m\u001b[0m\u001b[0m\n\u001b[1;32m    218\u001b[0m     \u001b[0;32mdef\u001b[0m \u001b[0mget_next_color\u001b[0m\u001b[0;34m(\u001b[0m\u001b[0mself\u001b[0m\u001b[0;34m)\u001b[0m\u001b[0;34m:\u001b[0m\u001b[0;34m\u001b[0m\u001b[0;34m\u001b[0m\u001b[0m\n",
            "\u001b[0;32m/usr/local/lib/python3.7/dist-packages/matplotlib/axes/_base.py\u001b[0m in \u001b[0;36m_plot_args\u001b[0;34m(self, tup, kwargs)\u001b[0m\n\u001b[1;32m    340\u001b[0m \u001b[0;34m\u001b[0m\u001b[0m\n\u001b[1;32m    341\u001b[0m         \u001b[0;32mif\u001b[0m \u001b[0mx\u001b[0m\u001b[0;34m.\u001b[0m\u001b[0mshape\u001b[0m\u001b[0;34m[\u001b[0m\u001b[0;36m0\u001b[0m\u001b[0;34m]\u001b[0m \u001b[0;34m!=\u001b[0m \u001b[0my\u001b[0m\u001b[0;34m.\u001b[0m\u001b[0mshape\u001b[0m\u001b[0;34m[\u001b[0m\u001b[0;36m0\u001b[0m\u001b[0;34m]\u001b[0m\u001b[0;34m:\u001b[0m\u001b[0;34m\u001b[0m\u001b[0;34m\u001b[0m\u001b[0m\n\u001b[0;32m--> 342\u001b[0;31m             raise ValueError(f\"x and y must have same first dimension, but \"\n\u001b[0m\u001b[1;32m    343\u001b[0m                              f\"have shapes {x.shape} and {y.shape}\")\n\u001b[1;32m    344\u001b[0m         \u001b[0;32mif\u001b[0m \u001b[0mx\u001b[0m\u001b[0;34m.\u001b[0m\u001b[0mndim\u001b[0m \u001b[0;34m>\u001b[0m \u001b[0;36m2\u001b[0m \u001b[0;32mor\u001b[0m \u001b[0my\u001b[0m\u001b[0;34m.\u001b[0m\u001b[0mndim\u001b[0m \u001b[0;34m>\u001b[0m \u001b[0;36m2\u001b[0m\u001b[0;34m:\u001b[0m\u001b[0;34m\u001b[0m\u001b[0;34m\u001b[0m\u001b[0m\n",
            "\u001b[0;31mValueError\u001b[0m: x and y must have same first dimension, but have shapes (100,) and (104, 1)"
          ]
        },
        {
          "output_type": "display_data",
          "data": {
            "image/png": "[encoded data removed]",
            "text/plain": [
              "<Figure size 432x288 with 1 Axes>"
            ]
          },
          "metadata": {
            "needs_background": "light"
          }
        }
      ],
      "source": [
        "plt.plot(plot_new, normalizer.inverse_transform(ds_scaled[1132:]))\n",
        "plt.plot(plot_pred, normalizer.inverse_transform(lst_output))"
      ]
    },
    {
      "cell_type": "code",
      "execution_count": null,
      "id": "e41c9362",
      "metadata": {
        "id": "e41c9362"
      },
      "outputs": [],
      "source": [
        "ds_new = ds_scaled.tolist()"
      ]
    },
    {
      "cell_type": "code",
      "execution_count": null,
      "id": "d6c8d3c1",
      "metadata": {
        "id": "d6c8d3c1",
        "outputId": "33850024-4e8e-46d5-e268-6af9ee0266cf"
      },
      "outputs": [
        {
          "data": {
            "text/plain": [
              "1232"
            ]
          },
          "execution_count": 84,
          "metadata": {},
          "output_type": "execute_result"
        }
      ],
      "source": [
        "len(ds_new)"
      ]
    },
    {
      "cell_type": "code",
      "execution_count": null,
      "id": "24e99607",
      "metadata": {
        "id": "24e99607",
        "outputId": "35cba427-0594-45ad-e1ec-b6f8e76c687a"
      },
      "outputs": [
        {
          "data": {
            "text/plain": [
              "[<matplotlib.lines.Line2D at 0x7fcbc59a0490>]"
            ]
          },
          "execution_count": 85,
          "metadata": {},
          "output_type": "execute_result"
        },
        {
          "data": {
            "image/png": "[encoded data removed]",
            "text/plain": [
              "<Figure size 432x288 with 1 Axes>"
            ]
          },
          "metadata": {
            "needs_background": "light"
          },
          "output_type": "display_data"
        }
      ],
      "source": [
        "#Entends helps us to fill the missing value with approx value\n",
        "ds_new.extend(lst_output)\n",
        "plt.plot(ds_new[1200:])"
      ]
    },
    {
      "cell_type": "code",
      "execution_count": null,
      "id": "7f04f058",
      "metadata": {
        "id": "7f04f058"
      },
      "outputs": [],
      "source": [
        "#Creating final data for plotting\n",
        "final_graph = normalizer.inverse_transform(ds_new).tolist()"
      ]
    },
    {
      "cell_type": "code",
      "execution_count": null,
      "id": "2dfdef30",
      "metadata": {
        "id": "2dfdef30",
        "outputId": "7ce53877-c1ce-41e8-8251-2970a222ef52"
      },
      "outputs": [
        {
          "data": {
            "text/plain": [
              "<matplotlib.legend.Legend at 0x7fcba1f08fd0>"
            ]
          },
          "execution_count": 112,
          "metadata": {},
          "output_type": "execute_result"
        },
        {
          "data": {
            "image/png": "[encoded data removed]",
            "text/plain": [
              "<Figure size 432x288 with 1 Axes>"
            ]
          },
          "metadata": {
            "needs_background": "light"
          },
          "output_type": "display_data"
        }
      ],
      "source": [
        "#Plotting final results with predicted value after 30 Days\n",
        "plt.plot(final_graph,)\n",
        "plt.ylabel(\"Price\")\n",
        "plt.xlabel(\"Time\")\n",
        "plt.title(\"{0} prediction of next month open\".format(stock_symbol))\n",
        "plt.axhline(y=final_graph[len(final_graph)-1], color = 'red', linestyle = ':', label = 'NEXT 30D: {0}'.format(round(float(*final_graph[len(final_graph)-1]),2)))\n",
        "plt.legend()\n",
        "\n"
      ]
    }
  ],
  "metadata": {
    "kernelspec": {
      "display_name": "Python 3",
      "language": "python",
      "name": "python3"
    },
    "language_info": {
      "codemirror_mode": {
        "name": "ipython",
        "version": 3
      },
      "file_extension": ".py",
      "mimetype": "text/x-python",
      "name": "python",
      "nbconvert_exporter": "python",
      "pygments_lexer": "ipython3",
      "version": "3.7.10"
    },
    "colab": {
      "name": "Live_Stock_Prediction.ipynb",
      "provenance": [],
      "include_colab_link": true
    }
  },
  "nbformat": 4,
  "nbformat_minor": 5
}